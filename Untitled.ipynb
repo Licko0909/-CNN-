{
 "cells": [
  {
   "cell_type": "markdown",
   "metadata": {},
   "source": [
    "# 初试手写体识别的实践与自建mnist数据集（第三版）-GPU"
   ]
  },
  {
   "cell_type": "markdown",
   "metadata": {},
   "source": [
    "## Content：\n",
    "+ 自建MNIST数据集，批量读取手写体，数据预处理与对接\n",
    "+ 建立MNIST_CNN模型，并识别预测\n",
    "+ 混淆矩阵可视化\n",
    "+ 错误识别集提取可视化\n",
    "+ 保存MNIST_CNN模型\n"
   ]
  },
  {
   "cell_type": "markdown",
   "metadata": {},
   "source": [
    "Date：2018-06-15"
   ]
  },
  {
   "cell_type": "markdown",
   "metadata": {},
   "source": [
    "## Loading module 载入模块"
   ]
  },
  {
   "cell_type": "code",
   "execution_count": 1,
   "metadata": {
    "collapsed": true
   },
   "outputs": [],
   "source": [
    "import numpy as np"
   ]
  },
  {
   "cell_type": "code",
   "execution_count": 2,
   "metadata": {},
   "outputs": [
    {
     "name": "stderr",
     "output_type": "stream",
     "text": [
      "Using TensorFlow backend.\n"
     ]
    }
   ],
   "source": [
    "#读取模块，设定随机种子\n",
    "import os\n",
    "from PIL import Image\n",
    "import random\n",
    "import scipy\n",
    "import time\n",
    "from keras.datasets import mnist\n",
    "from keras.utils import np_utils\n",
    "import random\n",
    "np.random.seed(10)\n",
    "\n",
    "import pandas as pd\n",
    "import matplotlib.pyplot as plt\n",
    "import matplotlib.image as mpimg\n",
    "import seaborn as sns\n",
    "%matplotlib inline\n",
    "\n",
    "from sklearn.model_selection import train_test_split\n",
    "from sklearn.metrics import confusion_matrix\n",
    "import itertools\n",
    "\n",
    "from keras.utils.np_utils import to_categorical # convert to one-hot-encoding\n",
    "from keras.models import Sequential\n",
    "from keras.layers import Dense, Dropout, Flatten, Conv2D, MaxPool2D\n",
    "from keras.optimizers import RMSprop\n",
    "from keras.preprocessing.image import ImageDataGenerator\n",
    "from keras.callbacks import ReduceLROnPlateau\n"
   ]
  },
  {
   "cell_type": "markdown",
   "metadata": {},
   "source": [
    "## 第一部分：自建MNIST数据集，批量读取手写体，数据预处理与对接"
   ]
  },
  {
   "cell_type": "markdown",
   "metadata": {},
   "source": [
    "生成自己的MNIST格式类型的数据集（原来的太麻烦，后来尉晋哲同学参与优化修改）"
   ]
  },
  {
   "cell_type": "code",
   "execution_count": 3,
   "metadata": {},
   "outputs": [
    {
     "name": "stdout",
     "output_type": "stream",
     "text": [
      "个数、长、宽分别为: (620, 28, 28)\n"
     ]
    }
   ],
   "source": [
    "def readData(path,isShuffle):\n",
    "    '''\n",
    "    path 为图片所在的路径\n",
    "    isShuffle 为是否随机打乱\n",
    "    '''\n",
    "    # 读取路径下的所有图片\n",
    "    files = os.listdir(path)    \n",
    " \n",
    "    #是否需要打乱顺序读取图片\n",
    "    if isShuffle == True:     \n",
    "        random.shuffle(files)\n",
    "    dataLen = len(files)\n",
    "\n",
    "    # 设置占位符\n",
    "    images = np.empty((dataLen,28,28),dtype=np.uint8)\n",
    "    label = np.empty((dataLen,),dtype='uint8')\n",
    "\n",
    "    # 遍历目录下的所有图片\n",
    "    for i in range(dataLen):\n",
    "        file = files[i]\n",
    "        # 读取图片信息\n",
    "        arr = scipy.misc.imread(path + file,flatten=True) #需要配套数值变换\n",
    "        images[i,:,:] = arr\n",
    "        # 对文件名进行两次拆分，取第二次拆分后的结果作为图片的 label\n",
    "        label[i] = int(file.split('_')[1].split('.')[0]) \n",
    "        \n",
    "    return (images,label)\n",
    "\n",
    "\n",
    "path = 'D:/myP/jupyter nootbook/手写体实践/数字数据集2/' #图片所在的路径，记得路径末尾添加反斜杠\n",
    "#path = 'D:/pweave_x/picture/'\n",
    "#生成测试集\n",
    "(images_Test,label_Test) = readData(path,True)     #False按顺序，True为乱序\n",
    "#(images_Train,label_Train) = readData(path,False)\n",
    "\n",
    "print(\"个数、长、宽分别为:\",images_Test.shape)       #查看shape"
   ]
  },
  {
   "cell_type": "code",
   "execution_count": 4,
   "metadata": {},
   "outputs": [
    {
     "data": {
      "image/png": "[encoded data removed]",
      "text/plain": [
       "<matplotlib.figure.Figure at 0x26aaab2b6a0>"
      ]
     },
     "metadata": {},
     "output_type": "display_data"
    }
   ],
   "source": [
    "#绘制0-9各数字的数量图\n",
    "import seaborn as sns\n",
    "count = sns.countplot(label_Test)"
   ]
  },
  {
   "cell_type": "code",
   "execution_count": 21,
   "metadata": {},
   "outputs": [
    {
     "data": {
      "image/png": "[encoded data removed]",
      "text/plain": [
       "<matplotlib.figure.Figure at 0x26b8ff66588>"
      ]
     },
     "metadata": {},
     "output_type": "display_data"
    }
   ],
   "source": [
    "#显示单张图片（第552张）\n",
    "plt.figure()\n",
    "plt.imshow(images_Test[552],cmap='gray')  #没有cmap='gray'会显示原色（黄色）\n",
    "plt.axis('off')\n",
    "plt.show()"
   ]
  },
  {
   "cell_type": "code",
   "execution_count": 6,
   "metadata": {
    "collapsed": true
   },
   "outputs": [],
   "source": [
    "#数据预处理、标准化\n",
    "img_data=255.0-images_Test.reshape(images_Test.shape[0],784).astype('float32')\n",
    "img_data=(img_data/255.0*0.99)+0.01  #1行784列，压缩到"
   ]
  },
  {
   "cell_type": "code",
   "execution_count": 7,
   "metadata": {
    "collapsed": true
   },
   "outputs": [],
   "source": [
    "#加载MNIST的数据集\n",
    "#若不想更新，想一直保存每次测试的数字，就不要重新加载数据集\n",
    "(x_train_image, y_train_label), (x_test_image, y_test_label) = mnist.load_data()\n",
    "\n",
    "x_Train =x_train_image.reshape(60000, 784).astype('float32')\n",
    "x_Test = x_test_image.reshape(10000, 784).astype('float32')\n",
    "\n",
    "x_Train_normalize = x_Train/ 255\n",
    "x_Test_normalize = x_Test/ 255\n",
    "\n",
    "\n",
    "#reshape成n*28*28*1（针对MNIST数据集）\n",
    "x_Train4D=x_Train.reshape(x_Train.shape[0],28,28,1).astype('float32')\n",
    "x_Test4D=x_Test.reshape(x_Test.shape[0],28,28,1).astype('float32')\n",
    "\n",
    "\n",
    "#数据标准化\n",
    "x_Train4D_normalize = x_Train4D / 255\n",
    "x_Test4D_normalize = x_Test4D / 255\n",
    "\n",
    "\n",
    "#热编码\n",
    "y_TrainOneHot = np_utils.to_categorical(y_train_label)\n",
    "y_TestOneHot = np_utils.to_categorical(y_test_label)\n",
    "y_TestOneHot_620 =np_utils.to_categorical(label_Test)    #620张的，为了热编码对接\n",
    "\n",
    "\n",
    "#reshape成n*28*28*1（针对自建数据集）\n",
    "img_array4D=img_data.reshape(img_data.shape[0],28,28,1).astype('float32')\n",
    "\n",
    "\n",
    "#自建数据集+MNIST数据集对接，①测试集对接，②热编码对接\n",
    "#注意：需要前后的数据范围符合，同时数据类型和维度一样,范围周围0，数字为0-1.\n",
    "x_Test4D_normalize_both = np.row_stack((x_Test4D_normalize, img_array4D)) #测试集对接\n",
    "y_TestOneHot_both= np.row_stack((y_TestOneHot, y_TestOneHot_620))            #热编码对接\n",
    "#label_Test_all= np.row_stack((y_test_label,label_Test))              #label对接(接不上)\n"
   ]
  },
  {
   "cell_type": "code",
   "execution_count": 8,
   "metadata": {
    "collapsed": true
   },
   "outputs": [],
   "source": [
    "#分割出验证集 = 0.05的训练集当作验证集（6月8日晨模型）\n",
    "random_seed = 2\n",
    "X_train1, X_val1, Y_train1, Y_val1 = train_test_split(\n",
    "        x_Train4D_normalize, y_TrainOneHot, \n",
    "        test_size = 0.05, random_state=random_seed)"
   ]
  },
  {
   "cell_type": "markdown",
   "metadata": {},
   "source": [
    "## 第二部分：建立MNIST_CNN模型，并预测"
   ]
  },
  {
   "cell_type": "code",
   "execution_count": 9,
   "metadata": {},
   "outputs": [
    {
     "name": "stdout",
     "output_type": "stream",
     "text": [
      "_________________________________________________________________\n",
      "Layer (type)                 Output Shape              Param #   \n",
      "=================================================================\n",
      "conv2d_1 (Conv2D)            (None, 28, 28, 16)        416       \n",
      "_________________________________________________________________\n",
      "max_pooling2d_1 (MaxPooling2 (None, 14, 14, 16)        0         \n",
      "_________________________________________________________________\n",
      "conv2d_2 (Conv2D)            (None, 14, 14, 36)        14436     \n",
      "_________________________________________________________________\n",
      "max_pooling2d_2 (MaxPooling2 (None, 7, 7, 36)          0         \n",
      "_________________________________________________________________\n",
      "dropout_1 (Dropout)          (None, 7, 7, 36)          0         \n",
      "_________________________________________________________________\n",
      "flatten_1 (Flatten)          (None, 1764)              0         \n",
      "_________________________________________________________________\n",
      "dense_1 (Dense)              (None, 128)               225920    \n",
      "_________________________________________________________________\n",
      "dropout_2 (Dropout)          (None, 128)               0         \n",
      "_________________________________________________________________\n",
      "dense_2 (Dense)              (None, 10)                1290      \n",
      "=================================================================\n",
      "Total params: 242,062\n",
      "Trainable params: 242,062\n",
      "Non-trainable params: 0\n",
      "_________________________________________________________________\n",
      "None\n"
     ]
    }
   ],
   "source": [
    "\n",
    "#建立模型\n",
    "from keras.models import Sequential\n",
    "from keras.layers import Dense,Dropout,Flatten,Conv2D,MaxPooling2D\n",
    "\n",
    "\n",
    "#设定空的模型框架\n",
    "model = Sequential()\n",
    "\n",
    "\n",
    "#建立卷积层1\n",
    "\"\"\" \n",
    "建立卷积层1 filters=16: 16个滤镜 \n",
    "kernel_size=(5,5)： 每个滤镜5x5大小 \n",
    "padding='same'：卷积运算所产生的卷积图像大小不变 \n",
    "input_shape=(28,28,1)：图像的形状为28x28，图像是单色灰度图像，所以用1表示，                                      \n",
    "如果图像是彩色图像RGB，所以用3表示， \n",
    "activation='relu'：激活函数 （x小于0，y=0；x大于等于0，y=x） \n",
    "\"\"\" \n",
    "model.add(Conv2D(filters=16,\n",
    "                 kernel_size=(5,5),\n",
    "                 padding='same',\n",
    "                 input_shape=(28,28,1), \n",
    "                 activation='relu'))\n",
    "\n",
    "\n",
    "\n",
    "#建立池化层1\n",
    "\"\"\" \n",
    "建立池化层1 参数pool_size=(2, 2)，\n",
    "执行第1次缩减采样，将16个28x28的图像缩小为16个14x14 的图像 \n",
    "\"\"\" \n",
    "model.add(MaxPooling2D(pool_size=(2, 2)))\n",
    "\n",
    "\n",
    "\n",
    "#建立卷积层2 \n",
    "\"\"\" \n",
    "建立卷积层2 \n",
    "执行第2次卷积运算，将原来的16个滤镜变为36个滤镜， \n",
    "input_shape=14x14的36个图像\n",
    " \"\"\"  \n",
    "model.add(Conv2D(filters=36,\n",
    "                 kernel_size=(5,5),\n",
    "                 padding='same',\n",
    "                 activation='relu'))\n",
    "\n",
    "\n",
    "#建立池化层2 \n",
    "\"\"\" \n",
    "建立池化层2 \n",
    "参数pool_size=(2, 2)，执行第2次缩减采样，\n",
    "将36个14x14的图像缩小为36 个7x7的图像\n",
    "\"\"\" \n",
    "model.add(MaxPooling2D(pool_size=(2, 2)))\n",
    "\n",
    "\n",
    "#建立Dropout层\n",
    "\"\"\" \n",
    "建立Dropout层，可以防止过拟合，\n",
    "设置25%的随机丢弃率.\n",
    "\"\"\" \n",
    "model.add(Dropout(0.25))\n",
    "\n",
    "\n",
    "#建立平坦层\n",
    "\"\"\"  \n",
    "平坦层 36*7*7 = 1764个神经元 \n",
    "\n",
    "隐含层 1764*128+128 = 225920 个神经元\n",
    "\n",
    "Dropout层 128个神经元，50%丢弃率\n",
    "\n",
    "输出层 10*128+10 = 1290个神经元\n",
    "\n",
    "\"\"\" \n",
    "model.add(Flatten())\n",
    "\n",
    "model.add(Dense(128, activation='relu'))\n",
    "\n",
    "model.add(Dropout(0.5))\n",
    "\n",
    "model.add(Dense(10,activation='softmax'))\n",
    "\n",
    "#输出模型摘要\n",
    "print(model.summary())\n",
    "\n",
    "\n",
    "\n",
    "\n",
    "# 定义优化器\n",
    "optimizer = RMSprop(lr=0.001, rho=0.9, epsilon=1e-08, decay=0.0)\n",
    "\n",
    "# 编译模型\n",
    "model.compile(optimizer = optimizer ,\n",
    "              loss = \"categorical_crossentropy\",\n",
    "              metrics=[\"accuracy\"])\n",
    "\n",
    "\n",
    "# 设置学习速率退火机\n",
    "learning_rate_reduction = ReduceLROnPlateau(monitor='val_acc', \n",
    "                                            patience=3, \n",
    "                                            verbose=1, \n",
    "                                            factor=0.5, \n",
    "                                            min_lr=0.00001)\n",
    "\n",
    "\n",
    "epochs = 10 # Turn epochs to 10 to get 0.999 accuracy\n",
    "batch_size = 186  #大样本用一个适当值，小样本设置全批次\n",
    "#理论在这，https://blog.csdn.net/qq_20259459/article/details/53943413"
   ]
  },
  {
   "cell_type": "markdown",
   "metadata": {},
   "source": [
    "### 数据扩充\\数据增强"
   ]
  },
  {
   "cell_type": "code",
   "execution_count": 10,
   "metadata": {
    "collapsed": true
   },
   "outputs": [],
   "source": [
    "\"\"\"\n",
    "只设置了四种数据增强类型，随机旋转、放缩、水平宽度位移、水平高度位移\n",
    "\"\"\"\n",
    "datagen = ImageDataGenerator(\n",
    "        featurewise_center=False,  # set input mean to 0 over the dataset\n",
    "        samplewise_center=False,  # set each sample mean to 0\n",
    "        featurewise_std_normalization=False,  # divide inputs by std of the dataset\n",
    "        samplewise_std_normalization=False,  # divide each input by its std\n",
    "        zca_whitening=False,  # apply ZCA whitening\n",
    "        rotation_range=10,  # randomly rotate images in the range (degrees, 0 to 180)\n",
    "        zoom_range = 0.1, # Randomly zoom image \n",
    "        width_shift_range=0.1,  # randomly shift images horizontally (fraction of total width)\n",
    "        height_shift_range=0.1,  # randomly shift images vertically (fraction of total height)\n",
    "        horizontal_flip=False,  # randomly flip images\n",
    "        vertical_flip=False)  # randomly flip images\n",
    "\n",
    "\n",
    "datagen.fit(x_Test4D_normalize)"
   ]
  },
  {
   "cell_type": "code",
   "execution_count": 11,
   "metadata": {},
   "outputs": [
    {
     "name": "stdout",
     "output_type": "stream",
     "text": [
      "Epoch 1/10\n",
      " - 18s - loss: 0.5243 - acc: 0.8339 - val_loss: 0.0818 - val_acc: 0.9740\n",
      "Epoch 2/10\n",
      " - 12s - loss: 0.1943 - acc: 0.9416 - val_loss: 0.0585 - val_acc: 0.9790\n",
      "Epoch 3/10\n",
      " - 13s - loss: 0.1403 - acc: 0.9584 - val_loss: 0.0351 - val_acc: 0.9900\n",
      "Epoch 4/10\n",
      " - 12s - loss: 0.1142 - acc: 0.9656 - val_loss: 0.0319 - val_acc: 0.9893\n",
      "Epoch 5/10\n",
      " - 12s - loss: 0.0997 - acc: 0.9698 - val_loss: 0.0308 - val_acc: 0.9917\n",
      "Epoch 6/10\n",
      " - 12s - loss: 0.0877 - acc: 0.9741 - val_loss: 0.0243 - val_acc: 0.9923\n",
      "Epoch 7/10\n",
      " - 12s - loss: 0.0853 - acc: 0.9756 - val_loss: 0.0255 - val_acc: 0.9920\n",
      "Epoch 8/10\n",
      " - 12s - loss: 0.0789 - acc: 0.9765 - val_loss: 0.0287 - val_acc: 0.9917\n",
      "Epoch 9/10\n",
      " - 12s - loss: 0.0758 - acc: 0.9770 - val_loss: 0.0245 - val_acc: 0.9917\n",
      "\n",
      "Epoch 00009: ReduceLROnPlateau reducing learning rate to 0.0005000000237487257.\n",
      "Epoch 10/10\n",
      " - 12s - loss: 0.0667 - acc: 0.9800 - val_loss: 0.0219 - val_acc: 0.9933\n"
     ]
    }
   ],
   "source": [
    "# 模型训练 (need 5min)  用\"训练集\"训练，用\"验证集\"调教，得到一个识别模型，再用测试集测试\n",
    "history = model.fit_generator(datagen.flow(X_train1,Y_train1, batch_size=batch_size),\n",
    "                              epochs = epochs, validation_data = (X_val1,Y_val1),\n",
    "                              verbose = 2, steps_per_epoch=x_Train.shape[0] // batch_size\n",
    "                              , callbacks=[learning_rate_reduction])"
   ]
  },
  {
   "cell_type": "code",
   "execution_count": 12,
   "metadata": {},
   "outputs": [
    {
     "data": {
      "image/png": "[encoded data removed]",
      "text/plain": [
       "<matplotlib.figure.Figure at 0x26a8be5ff98>"
      ]
     },
     "metadata": {},
     "output_type": "display_data"
    }
   ],
   "source": [
    "# 绘制训练和验证的损耗和精度曲线\n",
    "fig, ax = plt.subplots(2,1)\n",
    "ax[0].plot(history.history['loss'], color='b', label=\"Training loss\")\n",
    "ax[0].plot(history.history['val_loss'], color='r', label=\"validation loss\",axes =ax[0])\n",
    "legend = ax[0].legend(loc='best', shadow=True)\n",
    "\n",
    "ax[1].plot(history.history['acc'], color='b', label=\"Training accuracy\")\n",
    "ax[1].plot(history.history['val_acc'], color='r',label=\"Validation accuracy\")\n",
    "legend = ax[1].legend(loc='best', shadow=True)"
   ]
  },
  {
   "cell_type": "code",
   "execution_count": 13,
   "metadata": {},
   "outputs": [
    {
     "name": "stdout",
     "output_type": "stream",
     "text": [
      "3000/3000 [==============================] - 1s 187us/step\n",
      "验证集中的准确率： 0.9933333333333333\n",
      "620/620 [==============================] - 0s 134us/step\n",
      "620张测试集的准确率： 0.9338709677419355\n",
      "10620/10620 [==============================] - 1s 124us/step\n",
      "10620张测试集的准确率： 0.9903954802484387\n",
      "10000/10000 [==============================] - 1s 117us/step\n",
      "10000张测试集的准确率： 0.9939\n"
     ]
    }
   ],
   "source": [
    "#验证集中的准确率(99.4333%)\n",
    "scores_val = model.evaluate(X_val1,Y_val1)\n",
    "print(\"验证集中的准确率：\",scores_val[1])\n",
    "\n",
    "#620张测试集中的准确率(94.3548%)\n",
    "scores_620 = model.evaluate(img_array4D, y_TestOneHot_620) \n",
    "print(\"620张测试集的准确率：\",scores_620[1])\n",
    "\n",
    "#10620张测试集中的准确率(99.1808%)\n",
    "scores_all = model.evaluate(x_Test4D_normalize_both, y_TestOneHot_both) \n",
    "print(\"10620张测试集的准确率：\",scores_all[1])\n",
    "\n",
    "#10000张测试集中的准确率(99.4800%)\n",
    "scores_all = model.evaluate(x_Test4D_normalize, y_TestOneHot) \n",
    "print(\"10000张测试集的准确率：\",scores_all[1])"
   ]
  },
  {
   "cell_type": "code",
   "execution_count": 14,
   "metadata": {
    "collapsed": true
   },
   "outputs": [],
   "source": [
    "#预测\n",
    "prediction=model.predict_classes(x_Test4D_normalize_both)\n",
    "prediction620=prediction[10000:11000]\n",
    "#print ('手写体的预测值:',prediction)  #设置1000的长度\n",
    "#print ('手写体的标签为:',label_Test)  #label"
   ]
  },
  {
   "cell_type": "code",
   "execution_count": 15,
   "metadata": {},
   "outputs": [
    {
     "data": {
      "image/png": "[encoded data removed]",
      "text/plain": [
       "<matplotlib.figure.Figure at 0x26ab42f6828>"
      ]
     },
     "metadata": {},
     "output_type": "display_data"
    }
   ],
   "source": [
    "#查看预测结果，可视化(查看620张中的前50张，最好能够随机，待解决)\n",
    "def plot_images_labels_prediction(images,labels,prediction,idx,num=50):\n",
    "    fig = plt.gcf()\n",
    "    fig.set_size_inches(12, 18)    #间隔的宽与高\n",
    "    if num>50: num=50\n",
    "    for i in range(0, num):\n",
    "        ax=plt.subplot(10,5, 1+i)  #设置按10行5列展示\n",
    "        ax.imshow(images[idx], cmap='binary')\n",
    "\n",
    "        ax.set_title(\"label=\" +str(labels[idx])+\n",
    "                     \",predict=\"+str(prediction[idx])\n",
    "                     ,fontsize=10) \n",
    "        \n",
    "        ax.set_xticks([]);ax.set_yticks([])        \n",
    "        idx+=1 \n",
    "    plt.show()\n",
    "\n",
    "plot_images_labels_prediction(images_Test,label_Test,prediction620,idx=0)"
   ]
  },
  {
   "cell_type": "code",
   "execution_count": 16,
   "metadata": {},
   "outputs": [
    {
     "data": {
      "image/png": "[encoded data removed]",
      "text/plain": [
       "<matplotlib.figure.Figure at 0x26ab4168358>"
      ]
     },
     "metadata": {},
     "output_type": "display_data"
    }
   ],
   "source": [
    "#混淆矩阵（620张）\n",
    "import pandas as pd\n",
    "pd.crosstab(label_Test,prediction620,\n",
    "            rownames=['label'],colnames=['predict'])\n",
    "\n",
    "#查看真实值与预测值不等的图片(620张)\n",
    "df620 = pd.DataFrame({'label':label_Test, 'predict':prediction620})\n",
    "\n",
    "df620[(df620.label!=df620.predict)]      #输出label与predict不等的所有idex\n",
    "#结果显示idx为548的为错误图像\n",
    "\n",
    "#查看idx为548的图片的label、predit、image\n",
    "plot_images_labels_prediction(images_Test,label_Test,prediction620,idx=91,num=1)\n"
   ]
  },
  {
   "cell_type": "code",
   "execution_count": 17,
   "metadata": {},
   "outputs": [
    {
     "data": {
      "image/png": "[encoded data removed]",
      "text/plain": [
       "<matplotlib.figure.Figure at 0x26b90052518>"
      ]
     },
     "metadata": {},
     "output_type": "display_data"
    },
    {
     "data": {
      "image/png": "[encoded data removed]",
      "text/plain": [
       "<matplotlib.figure.Figure at 0x26b90105710>"
      ]
     },
     "metadata": {},
     "output_type": "display_data"
    },
    {
     "data": {
      "image/png": "[encoded data removed]",
      "text/plain": [
       "<matplotlib.figure.Figure at 0x26b8fc1db70>"
      ]
     },
     "metadata": {},
     "output_type": "display_data"
    }
   ],
   "source": [
    "#混淆矩阵（confusion matrix）前10000张\n",
    "import pandas as pd\n",
    "pd.crosstab(y_test_label,prediction[:10000],\n",
    "            rownames=['label'],colnames=['predict'])\n",
    "\n",
    "#查看真实值与预测值不等的图片(前10000张)\n",
    "df = pd.DataFrame({'label':y_test_label, 'predict':prediction[:10000]})\n",
    "\n",
    "df[(df.label==7)&(df.predict==2)]    #输出标签为7但预测为2的idx、predict\n",
    "\n",
    "df[(df.label!=df.predict)]           #输出label与predict不等的所有idex\n",
    "\n",
    "#查看指定idx\n",
    "plot_images_labels_prediction(x_test_image,y_test_label,prediction,idx=1438,num=1)\n",
    "plot_images_labels_prediction(x_test_image,y_test_label,prediction,idx=1901,num=1)\n",
    "plot_images_labels_prediction(x_test_image,y_test_label,prediction,idx=2130,num=1)"
   ]
  },
  {
   "cell_type": "markdown",
   "metadata": {},
   "source": [
    "## 混淆矩阵可视化（查看全体10620张）"
   ]
  },
  {
   "cell_type": "code",
   "execution_count": 18,
   "metadata": {
    "collapsed": true
   },
   "outputs": [],
   "source": [
    "# 混淆矩阵可视化（查看全体10620张）\n",
    "def plot_confusion_matrix(cm, classes,\n",
    "                          normalize=False,\n",
    "                          title='Confusion matrix',\n",
    "                          cmap=plt.cm.Blues):\n",
    "    \"\"\"\n",
    "    This function prints and plots the confusion matrix.\n",
    "    Normalization can be applied by setting `normalize=True`.\n",
    "    \"\"\"\n",
    "    plt.imshow(cm, interpolation='nearest', cmap=cmap)\n",
    "    plt.title(title)\n",
    "    plt.colorbar()\n",
    "    tick_marks = np.arange(len(classes))\n",
    "    plt.xticks(tick_marks, classes, rotation=45)\n",
    "    plt.yticks(tick_marks, classes)\n",
    "\n",
    "    if normalize:\n",
    "        cm = cm.astype('float') / cm.sum(axis=1)[:, np.newaxis]\n",
    "\n",
    "    thresh = cm.max() / 2.\n",
    "    for i, j in itertools.product(range(cm.shape[0]), range(cm.shape[1])):\n",
    "        plt.text(j, i, cm[i, j],\n",
    "                 horizontalalignment=\"center\",\n",
    "                 color=\"white\" if cm[i, j] > thresh else \"black\")\n",
    "\n",
    "    plt.tight_layout()\n",
    "    plt.ylabel('True label')\n",
    "    plt.xlabel('Predicted label')"
   ]
  },
  {
   "cell_type": "code",
   "execution_count": 19,
   "metadata": {},
   "outputs": [
    {
     "data": {
      "image/png": "[encoded data removed]",
      "text/plain": [
       "<matplotlib.figure.Figure at 0x26a8977ce48>"
      ]
     },
     "metadata": {},
     "output_type": "display_data"
    }
   ],
   "source": [
    "'''\n",
    "img_array4D与y_TestOneHot_620                620\n",
    "x_Test4D_normalize_both与y_TestOneHot_both   10620\n",
    "'''\n",
    "# Predict the values from the validation dataset 预测验证集的数字\n",
    "Y_pred = model.predict(x_Test4D_normalize_both)  #这是10620张的，下面的是1062张的\n",
    "#Y_pred = model.predict(X_val1)    #  img_array4D.shape = (620, 28, 28, 1)\n",
    "# Convert predictions classes to one hot vectors  预测的热矢量(1,10)变成一个预测数(1,1)\n",
    "Y_pred_classes = np.argmax(Y_pred,axis = 1) \n",
    "# Convert validation observations to one hot vectors 测试集的热矢量(1,10)变成一个数(1,1)\n",
    "Y_true = np.argmax(y_TestOneHot_both,axis = 1)   #这是10620张的，下面的是1062张的\n",
    "#Y_true = np.argmax(Y_val1,axis = 1)     #  y_TestOneHot_620.shape = (620,10)\n",
    "# compute the confusion matrix\n",
    "confusion_mtx = confusion_matrix(Y_true, Y_pred_classes)  #输入都为热矢量\n",
    "# plot the confusion matrix\n",
    "plot_confusion_matrix(confusion_mtx, classes = range(10)) #10*10的混淆矩阵，只错了3个"
   ]
  },
  {
   "cell_type": "markdown",
   "metadata": {},
   "source": [
    "# 第四部分：错误结果可视化"
   ]
  },
  {
   "cell_type": "code",
   "execution_count": 20,
   "metadata": {},
   "outputs": [
    {
     "data": {
      "image/png": "[encoded data removed]",
      "text/plain": [
       "<matplotlib.figure.Figure at 0x26b9005a940>"
      ]
     },
     "metadata": {},
     "output_type": "display_data"
    }
   ],
   "source": [
    "# 错误结果可视化(10620张)\n",
    "# Errors are difference between predicted labels and true labels\n",
    "errors = (Y_pred_classes - Y_true != 0)\n",
    "\n",
    "Y_pred_classes_errors = Y_pred_classes[errors]\n",
    "Y_pred_errors = Y_pred[errors]\n",
    "Y_true_errors = Y_true[errors]\n",
    "X_val1_errors = x_Test4D_normalize_both[errors]\n",
    "\n",
    "def display_errors(errors_index,img_errors,pred_errors, obs_errors):\n",
    "    \"\"\" This function shows 6 images with their predicted and real labels\"\"\"\n",
    "    n = 0\n",
    "    nrows = 2\n",
    "    ncols = 4\n",
    "    fig, ax = plt.subplots(nrows,ncols,sharex=True,sharey=True)\n",
    "    for row in range(nrows):\n",
    "        for col in range(ncols):\n",
    "            error = errors_index[n]\n",
    "            ax[row,col].imshow((img_errors[error]).reshape((28,28)))\n",
    "            ax[row,col].set_title(\"Predic:{},True:{}\".format(pred_errors[error],obs_errors[error]))\n",
    "            n += 1\n",
    "    \n",
    "# Probabilities of the wrong predicted numbers\n",
    "Y_pred_errors_prob = np.max(Y_pred_errors,axis = 1)\n",
    "\n",
    "# Predicted probabilities of the true values in the error set\n",
    "true_prob_errors = np.diagonal(np.take(Y_pred_errors, Y_true_errors, axis=1))\n",
    "\n",
    "# Difference between the probability of the predicted label and the true label\n",
    "delta_pred_true_errors = Y_pred_errors_prob - true_prob_errors\n",
    "\n",
    "# Sorted list of the delta prob errors\n",
    "sorted_dela_errors = np.argsort(delta_pred_true_errors)\n",
    "\n",
    "# Top 8 errors \n",
    "most_important_errors = sorted_dela_errors[-8:]\n",
    "\n",
    "# Show the top 8 errors \n",
    "display_errors(most_important_errors, X_val1_errors, Y_pred_classes_errors, Y_true_errors)"
   ]
  },
  {
   "cell_type": "code",
   "execution_count": null,
   "metadata": {
    "collapsed": true
   },
   "outputs": [],
   "source": []
  },
  {
   "cell_type": "code",
   "execution_count": null,
   "metadata": {
    "collapsed": true
   },
   "outputs": [],
   "source": []
  }
 ],
 "metadata": {
  "kernelspec": {
   "display_name": "Python 3",
   "language": "python",
   "name": "python3"
  },
  "language_info": {
   "codemirror_mode": {
    "name": "ipython",
    "version": 3
   },
   "file_extension": ".py",
   "mimetype": "text/x-python",
   "name": "python",
   "nbconvert_exporter": "python",
   "pygments_lexer": "ipython3",
   "version": "3.6.2"
  }
 },
 "nbformat": 4,
 "nbformat_minor": 2
}
